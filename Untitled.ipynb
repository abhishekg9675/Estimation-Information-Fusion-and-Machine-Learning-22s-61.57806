{
 "cells": [
  {
   "cell_type": "code",
   "execution_count": 1,
   "id": "546a45fe-4279-403e-9545-f015009386e1",
   "metadata": {},
   "outputs": [
    {
     "name": "stdout",
     "output_type": "stream",
     "text": [
      "Collecting filterpy\n",
      "  Downloading filterpy-1.4.5.zip (177 kB)\n",
      "     -------------------------------------- 178.0/178.0 KB 3.6 MB/s eta 0:00:00\n",
      "  Preparing metadata (setup.py): started\n",
      "  Preparing metadata (setup.py): finished with status 'done'\n",
      "Requirement already satisfied: numpy in c:\\users\\stann\\appdata\\local\\programs\\python\\python39\\lib\\site-packages (from filterpy) (1.22.1)\n",
      "Requirement already satisfied: scipy in c:\\users\\stann\\appdata\\local\\programs\\python\\python39\\lib\\site-packages (from filterpy) (1.7.3)\n",
      "Requirement already satisfied: matplotlib in c:\\users\\stann\\appdata\\local\\programs\\python\\python39\\lib\\site-packages (from filterpy) (3.5.1)\n",
      "Requirement already satisfied: pillow>=6.2.0 in c:\\users\\stann\\appdata\\local\\programs\\python\\python39\\lib\\site-packages (from matplotlib->filterpy) (9.0.0)\n",
      "Requirement already satisfied: pyparsing>=2.2.1 in c:\\users\\stann\\appdata\\local\\programs\\python\\python39\\lib\\site-packages (from matplotlib->filterpy) (3.0.7)\n",
      "Requirement already satisfied: kiwisolver>=1.0.1 in c:\\users\\stann\\appdata\\local\\programs\\python\\python39\\lib\\site-packages (from matplotlib->filterpy) (1.3.2)\n",
      "Requirement already satisfied: python-dateutil>=2.7 in c:\\users\\stann\\appdata\\local\\programs\\python\\python39\\lib\\site-packages (from matplotlib->filterpy) (2.8.2)\n",
      "Requirement already satisfied: cycler>=0.10 in c:\\users\\stann\\appdata\\local\\programs\\python\\python39\\lib\\site-packages (from matplotlib->filterpy) (0.11.0)\n",
      "Requirement already satisfied: fonttools>=4.22.0 in c:\\users\\stann\\appdata\\local\\programs\\python\\python39\\lib\\site-packages (from matplotlib->filterpy) (4.29.0)\n",
      "Requirement already satisfied: packaging>=20.0 in c:\\users\\stann\\appdata\\local\\programs\\python\\python39\\lib\\site-packages (from matplotlib->filterpy) (21.3)\n",
      "Requirement already satisfied: six>=1.5 in c:\\users\\stann\\appdata\\local\\programs\\python\\python39\\lib\\site-packages (from python-dateutil>=2.7->matplotlib->filterpy) (1.16.0)\n",
      "Building wheels for collected packages: filterpy\n",
      "  Building wheel for filterpy (setup.py): started\n",
      "  Building wheel for filterpy (setup.py): finished with status 'done'\n",
      "  Created wheel for filterpy: filename=filterpy-1.4.5-py3-none-any.whl size=110474 sha256=24cd4bf0aad8f646fa8bb6b00f2c136c15ea9ef08f230ca26e1d9b0d1735d999\n",
      "  Stored in directory: c:\\users\\stann\\appdata\\local\\pip\\cache\\wheels\\53\\e6\\de\\a09ea01e923aaf88b9f8c7c44329e857b2c1a31901167e55e6\n",
      "Successfully built filterpy\n",
      "Installing collected packages: filterpy\n",
      "Successfully installed filterpy-1.4.5\n",
      "Note: you may need to restart the kernel to use updated packages.\n"
     ]
    }
   ],
   "source": [
    "pip install filterpy"
   ]
  },
  {
   "cell_type": "code",
   "execution_count": null,
   "id": "637e121b-359c-4f96-af12-5f9ca23f1aa7",
   "metadata": {},
   "outputs": [],
   "source": []
  }
 ],
 "metadata": {
  "kernelspec": {
   "display_name": "Python 3 (ipykernel)",
   "language": "python",
   "name": "python3"
  },
  "language_info": {
   "codemirror_mode": {
    "name": "ipython",
    "version": 3
   },
   "file_extension": ".py",
   "mimetype": "text/x-python",
   "name": "python",
   "nbconvert_exporter": "python",
   "pygments_lexer": "ipython3",
   "version": "3.9.9"
  }
 },
 "nbformat": 4,
 "nbformat_minor": 5
}
